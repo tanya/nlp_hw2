{
 "cells": [
  {
   "cell_type": "markdown",
   "metadata": {},
   "source": [
    "## Sequence Tagging Patterns\n",
    "Matthew Stone, CS 533, to accompany second homework.\n",
    "Initial version, Spring 2017.  Updated Spring 2018.\n",
    "\n",
    "This notebook is designed to cover the basics and get you started with the second homework.  (There is a second version of this file for working with CRFsuite if you want to explore these problems further.)  You'll recognize a few of the [design patterns][1] here from last time, and maybe discover some new ones as well.\n",
    "\n",
    "[1]:https://en.wikipedia.org/wiki/Software_design_pattern"
   ]
  },
  {
   "cell_type": "code",
   "execution_count": 1,
   "metadata": {},
   "outputs": [],
   "source": [
    "import nltk\n",
    "import vocabulary\n",
    "import itertools\n",
    "import numpy as np\n",
    "import scipy\n",
    "import sklearn\n",
    "import heapq\n",
    "import tagtools\n",
    "from nltk.corpus import wordnet\n",
    "from nltk.tag import pos_tag\n",
    "from future import print"
   ]
  },
  {
   "cell_type": "markdown",
   "metadata": {},
   "source": [
    "As before, we start with a setup that lets you customize your data resources.  Change what follows to show what data you want to use and where you've put it on your file system."
   ]
  },
  {
   "cell_type": "code",
   "execution_count": 2,
   "metadata": {
    "collapsed": true
   },
   "outputs": [],
   "source": [
    "reference_train_file, reference_test_file, reference_dev_file = \\\n",
    "  \"reference_train.xml\", \"reference_test.xml\", \"reference_dev.xml\"\n",
    "reference_xml_item_keyword = \"entry\"\n",
    "\n",
    "ingredients_train_file, ingredients_test_file, ingredients_dev_file = \\\n",
    "  \"ingredients_small_train.xml\", \"ingredients_small_test.xml\", \"ingredients_devset.xml\"\n",
    "#  \"ingredients_big_train.xml\", \"ingredients_big_test.xml\", \"ingredients_devset.xml\"\n",
    "ingredients_xml_item_keyword = \"ingredient\""
   ]
  },
  {
   "cell_type": "markdown",
   "metadata": {},
   "source": [
    "## Finding features in a sequence: Get a big window\n",
    "\n",
    "Sequence tagging is a special problem because the correct interpretation of an individual token often depends on other tokens nearby.   So the key to learning powerful sequence taggers is to develop features that look beyond the target token to a meaningful window of tokens in the sequence.\n",
    "\n",
    "The tagtools utilities include basic tokenizers that give back individual tokens, but here we compose those tokenizers with an aggregator operation `tagged_contexts` that gives access to the complete environment in which the target token appears.  \n",
    "\n",
    "In particular, the output of `tagged_contexts` delivers each word along with the words that preceded it (in reverse order) and the words that follow it.  For example, to tag the word `'of'` in `['8', 'pounds', 'of', 'carrots']`, we get a preceding context of `['pounds', '8']` and a following context of `['carrots']`.  \n",
    "\n",
    "You could adapt this kind of functionality to perform arbitrary preprocessing of the input stream.  For example, if you wanted the classifier to have access to part of speech tags for the input, you could run a part of speech tagger at this step."
   ]
  },
  {
   "cell_type": "code",
   "execution_count": 3,
   "metadata": {
    "collapsed": true
   },
   "outputs": [],
   "source": [
    "def tagged_contexts(seq) :\n",
    "    '''take the tagged tokens in seq and create a new sequence \n",
    "    that yields the same tokens but presents them with the full\n",
    "    context that precedes and follows them'''\n",
    "    items = [x for x in seq]\n",
    "    words = [w for (w,_) in items]\n",
    "    for i, (w, t) in enumerate(items) :\n",
    "        if i == 0 :\n",
    "            before = []\n",
    "        else :\n",
    "            before = words[i-1::-1]\n",
    "        after = words[i+1:]\n",
    "        yield (w, before, after), t"
   ]
  },
  {
   "cell_type": "markdown",
   "metadata": {},
   "source": [
    "## Finding features in a sequence: Use open-ended patterns\n",
    "\n",
    "The first part of this homework is to adapt the code to explore useful features for learning to assign tags to tokens.  It's convenient to separate the patterns that you write from the bookkeeping necessary to translate pattern occurrences into sparse vectors on particular tokens.  This function `make_cxt_feature_processor` does the trick.\n",
    "\n",
    "### How the code works\n",
    "\n",
    "It takes two arguments: `word_tests`, a list of word-level patterns, and `list_tests`, a list of list_level patterns.  Each element of each list is a function:\n",
    "\n",
    "    f: subitem, indicator -> feature_name option\n",
    "    \n",
    "That is, each function takes a `subitem` to process (either a word or a list from the context of a target token) and an `indicator` string capturing the environment in which `subitem` occurs relative to the target token, and returns a string `feature_name` recording the way `subitem` matches the pattern encoded by `f` in this context if it does, or `None` otherwise.  Examples of such functions are below. \n",
    "\n",
    "The `make_cxt_feature_processor` function then returns a `feature_processor` function that can be used by the data manager to construct the sparse feature vector for a particular target `item`.  This feature processor constructs a series of `subitem` targets based on the `item` context (right now it uses the target itself, and the preceding and following token if any, along with the full list of preceding and following tokens).  It then applies the `word_tests` to the word subitems, and the `list_tests` to the list subitems, and encodes the matching features as integers using the passed `features` vocabulary.\n",
    "\n",
    "### What you might want to change\n",
    "\n",
    "This abstract method is flexible enough to handle any patterns that you want to apply to the subitems it finds.  However, you may want to change this function to identify additional subitems for feature processing.  For example, you might want to scan the contexts for significant nearby tokens in a different way (looking at two nearby words, or skipping punctuation).  In addition, you will need to extend the interface if you want to look at bigram features or other features that look at multiple subitems simultaneously; these kinds of patterns need to be specified with a different functional form."
   ]
  },
  {
   "cell_type": "code",
   "execution_count": 4,
   "metadata": {
    "collapsed": true
   },
   "outputs": [],
   "source": [
    "def make_cxt_feature_processor(word_tests, list_tests) :\n",
    "    def feature_processor(features, item) :\n",
    "        this, before, after = item\n",
    "        result = []\n",
    "        \n",
    "        def addf(name) :\n",
    "            if name :\n",
    "                r = features.add(name)\n",
    "                if r :\n",
    "                    result.append(r)\n",
    "\n",
    "        def add_word_features(w, code) :\n",
    "            for ff in word_tests :\n",
    "                addf(ff(w, code))\n",
    "\n",
    "        def add_list_features(l, code) :\n",
    "            for ff in list_tests :\n",
    "                addf(ff(l, code))\n",
    "\n",
    "        first = lambda l: l[0] if l else None\n",
    "        \n",
    "        add_word_features(this, u\"w\")\n",
    "        add_list_features(before, u\"-\")\n",
    "        add_list_features(after, u\"+\")\n",
    "        for wx, cx in [(first(before), u\"-w\"),\n",
    "                       (first(after), u\"+w\")] :\n",
    "            if wx :\n",
    "                add_word_features(wx, cx)\n",
    "    \n",
    "        return np.array(result)\n",
    "    return feature_processor"
   ]
  },
  {
   "cell_type": "markdown",
   "metadata": {},
   "source": [
    "## Writing specific feature detectors\n",
    "\n",
    "### Model Features\n",
    "\n",
    "Here are some model features to give a sense of what's involved in writing the pattern matching routines for a feature processor.\n",
    "\n",
    "* The `identity_feature` constructs a feature for the item itself.  It shows how you can incorporate material from the item into the feature definition you create on a match.  Token identity is always a good default for memorizing arbitrary associations in a classification problem.\n",
    "\n",
    "* The `all_digits` feature tests whether a word item consists entirely of numerical characters, e.g., matches `[0-9]*`  In the bibliography context, this might be a good starting cue to recognize a date or for the volume number of a journal.  In the recipe domain this might be a good cue for recognizing the quantity of an ingredient.\n",
    "\n",
    "* The `lonely_initial` feature tests whether something looks like an abbreviated first name, which of course is useful for identifying author and editor fields in bibliographies: a two character token consisting of an upper case letter and a period (e.g,. `A.`)\n",
    "\n",
    "* The `is_empty` feature tests whether a list context contains no tokens.  When applied to the context features for a target token, this feature fires in one way when the target token is the first token in a text sequence and in another way when the target token is the final token in a text sequence.  This makes it generally useful for identifying material that's consistently placed at the beginning or end of descriptions (e.g., author vs date in bibliography entries, or quantity vs comment in recipe elements).\n",
    "\n",
    "### Suggestions: directions and methodology\n",
    "\n",
    "You'll want to expand this section by adding lots of other features.  Some ideas, in no particular order:\n",
    "\n",
    "- Features based on the general shape of a token (capitalization, acronyms) or specific patterns (e.g., email or web address).\n",
    "\n",
    "- Features that look at the length and constituency of the target token.  For example, number strings are likely to play a different role in a bibliography if they are a single digit (volume), three digits (pages) or four digits (year).\n",
    "\n",
    "- Features that look for character classes mixed with distinctive punctuation tokens, suggesting for example a page range (bibliography) or a fraction (recipes).\n",
    "\n",
    "- Features that access wordnet or other external resources to get a hint about the semantic category of a word (trying to get a handle on institutions, locations, dates, quantities, comments, journal names, etc).\n",
    "\n",
    "- Features that exploit additional preprocessing that you've done of the target string (for example, part of speech tags).  Note that you'll have to do a bunch of refactoring if you make general changes to the way tokens are represented.\n",
    "\n",
    "- Features that look for particular keywords at rule-governed places in the nearby context.  For example, in a bibliography, you get cues on the location of publication information from the location of the keyword `In`.\n",
    "\n",
    "Play a bit.  Your experience crafting features will have a big role in allowing you to appreciate the opportunities and challenges for improving machine learning algorithms as well as the direction current research in the field is taking.  You'd be surprised how many interesting lists you can roll into your algorithm with a quick google search or by scraping content from wikipedia.  On the other hand, you can also be surprised at how difficult it can be to get a machine learning algorithm to make the right decision on a particular token even if it seems like it ought to have plenty of information in the available features for the answer to be obvious.\n",
    "\n",
    "A good strategy is to build your pipeline and inspect items in the development set.  You can use the `tagutils` `DataManager` method `test_features_dev_item` to inspect the way that the classifier is representing a particular text from the dev set in terms of the features you've provided.  (This can let you see whether some aspect of the text that's important for the classification decision is not captured in the features so far.  It can also show you whether you have a bug in the feature detection code, which of course is a common failure mode for machine learning methods.)  You can compare this with the predictions that you make using the `tagutils` function `visualize`, or once you create a `TaggingExperiment` object (defined below), using the `visualize_classifier` or `visualize_decoder` methods, to get some insights into what tokens your model is treating incorrectly and thus where you are not representing the tokens and their context sufficiently richly or precisely for the learning algorithm to understand them."
   ]
  },
  {
   "cell_type": "code",
   "execution_count": 5,
   "metadata": {},
   "outputs": [],
   "source": [
    "identity_feature = lambda item, code: \"{}: {}\".format(code, item)\n",
    "\n",
    "def all_digits(item, code) :\n",
    "    if item.isdigit() :\n",
    "        return u\"{}: is all digits\".format(code)\n",
    "    \n",
    "def lonely_initial(item, code) :\n",
    "    if len(item) == 2 and item[0].isupper and item[1] == '.' :\n",
    "        return u\"{}: lonely initial\".format(code)\n",
    "    \n",
    "def is_empty(l, code) :\n",
    "    if not l :\n",
    "        return u\"{}: empty\".format(code)\n",
    "\n",
    "def is_web_addr(l, code):\n",
    "    domains = {'.com', '.org', '.net', '.edu', '.gov', '.cn', \\\n",
    "                      '.uk', '.eu', '.ru', '.info', '.nl', '.de'}\n",
    "    def is_email():\n",
    "        if '@' in l and True in [x in l[l.index('@'):] for x in domains]:\n",
    "            return True\n",
    "        return False\n",
    "    def is_website():\n",
    "        if True in ([i in l for i in domains]):\n",
    "            return True\n",
    "        return False\n",
    "    if is_email(): return u\"{}: is email\".format(code)\n",
    "    if is_website(): return u\"{}: is website\".format(code)\n",
    "    \n",
    "def is_quantity(item, code):\n",
    "    if item.replace('/', '').replace(' ', '').isdigit() and '/' in item:\n",
    "        return u\"{}: is quantity\".format(code)\n",
    "\n",
    "def is_page_range(item, code):\n",
    "    if item.replace('-', '').replace(',','').replace('.','').isdigit() and '-' in item:\n",
    "        return u\"{}: is page range\".format(code)\n",
    "\n",
    "def is_year(item, code):\n",
    "    if len(item.replace('-','').replace(',','')) == 4 and ('19' in item[:1] or '20' in item[:1]):\n",
    "        return u\"{}: is year\".format(code)\n",
    "\n",
    "def is_institution(item, code):\n",
    "    if 'University' in item or 'Univ' in item or 'Universite' in item or 'MIT' in item:\n",
    "        return u\"{}: is institution\".format(code)\n",
    "\n",
    "def is_author(l, code):\n",
    "    #print (l)\n",
    "    if len(l) > 0 and len(l[0]) == 2:\n",
    "        if l[0][1] == '.' and l[0].replace('.','').isupper():\n",
    "            return u\"{}: is author\".format(code)\n",
    "\n",
    "def is_volume(item, code):\n",
    "    new = item.replace('(', '').replace(')', '').replace(',','')\n",
    "    if len(new) <= 3 and new.isdigit():\n",
    "        return u\"{}: is volume\".format(code)\n",
    "\n",
    "def is_location(item, code):\n",
    "    syns = wordnet.synsets(item)\n",
    "    if len(syns) > 0:\n",
    "        if 'town' in syns[0].definition() or 'city' in syns[0].definition():\n",
    "            pos = pos_tag([item])\n",
    "            w, t = pos[0]\n",
    "            if t == 'NNP':\n",
    "                return u\"{}: is location\".format(code)"
   ]
  },
  {
   "cell_type": "markdown",
   "metadata": {},
   "source": [
    "## Putting your data pipeline together\n",
    "\n",
    "The data manager here is slightly more complicated than what we used for text classification.  We need:\n",
    "* XML file names for train, test and dev sets\n",
    "* the keyword to access individual items in the XML file\n",
    "* a tokenizer, mapping each item DOM object to a sequence of `(item, tag)` tuples.  Remember, each `item` shoud be represented with all the structure necessary to identify relevant features.  This sample tokenizer returns the target word together with its context, as described above.\n",
    "* a token view, which controls how the token items will be visualized for interaction.  The basic view here just returns the target word, stripped of the contextual information we are maintaining\n",
    "* a feature processor, which converts an item into a sparse feature representation\n",
    "* a constructor that builds a vocabulary for the feature processor\n",
    "\n",
    "The most important thing that you will likely wind up changing here is the `feature_processor` code.  You'll see the two lists of features being used (the word features and the list features).  As you add more features, you will need to add those features to these arguments so they actually get checked against tokens in the input."
   ]
  },
  {
   "cell_type": "code",
   "execution_count": 6,
   "metadata": {
    "scrolled": true
   },
   "outputs": [],
   "source": [
    "default_tokenizer = \\\n",
    "    lambda i: tagged_contexts(tagtools.bies_tagged_tokens(i))\n",
    "default_token_view = lambda i : i[0]\n",
    "default_feature_processor = \\\n",
    "    make_cxt_feature_processor([all_digits, lonely_initial, \n",
    "                                identity_feature, is_quantity, \n",
    "                                is_page_range, is_year, is_institution, \n",
    "                                is_location, is_volume],\n",
    "                               [is_empty, is_web_addr, is_author])\n",
    "def default_features(vocab) :\n",
    "    return lambda data: vocab\n",
    "\n",
    "bib_features = vocabulary.Vocabulary()\n",
    "\n",
    "bib_data = tagtools.DataManager(reference_train_file, \n",
    "                                reference_test_file, \n",
    "                                reference_dev_file,\n",
    "                                reference_xml_item_keyword,\n",
    "                                default_tokenizer,\n",
    "                                default_token_view,\n",
    "                                default_features(bib_features),\n",
    "                                default_feature_processor)"
   ]
  },
  {
   "cell_type": "markdown",
   "metadata": {},
   "source": [
    "Load the data from the file system"
   ]
  },
  {
   "cell_type": "code",
   "execution_count": 7,
   "metadata": {
    "collapsed": true
   },
   "outputs": [],
   "source": [
    "bib_data.initialize()"
   ]
  },
  {
   "cell_type": "markdown",
   "metadata": {},
   "source": [
    "Look at how we're analyzing a typical item.\n",
    "\n",
    "** Note: Remember the limitations of the data flow we're using.  We load the features for the training data, and then stop accumulating features in order to stabilize the matrix computations going forward.  So we can identify a feature in a dev item in this one-off test, but such features won't be associated in general with dev items unless they are already seen once in training. **"
   ]
  },
  {
   "cell_type": "code",
   "execution_count": 8,
   "metadata": {
    "scrolled": false
   },
   "outputs": [
    {
     "name": "stdout",
     "output_type": "stream",
     "text": [
      "J. (b: author)\n",
      "\tw: J.\t-: empty\t+: is author\t+w: lonely initial\t+w: P.\n",
      "P. (i: author)\n",
      "\tw: P.\t-: is author\t-w: lonely initial\t-w: J.\t+w: Callan\n",
      "Callan (i: author)\n",
      "\t-: is author\t-w: lonely initial\tw: Callan\t-w: P.\t+w: ,\n",
      ", (e: author)\n",
      "\tw: ,\t-w: Callan\t+w: ``\n",
      "`` (b: title)\n",
      "\tw: ``\t-w: ,\t+w: Document\n",
      "Document (i: title)\n",
      "\tw: Document\t-w: ``\t+w: Filtering\n",
      "Filtering (i: title)\n",
      "\tw: Filtering\t-w: Document\t+w: With\n",
      "With (i: title)\n",
      "\tw: With\t-w: Filtering\t+w: Inference\n",
      "Inference (i: title)\n",
      "\tw: Inference\t-w: With\t+w: Networks\n",
      "Networks (i: title)\n",
      "\t+w: ,\tw: Networks\t-w: Inference\n",
      ", (i: title)\n",
      "\tw: ,\t-w: Networks\t+w: ''\n",
      "'' (e: title)\n",
      "\t-w: ,\tw: ''\t+w: Proceedings\n",
      "Proceedings (b: booktitle)\n",
      "\tw: Proceedings\t-w: ''\t+w: of\n",
      "of (i: booktitle)\n",
      "\tw: of\t-w: Proceedings\t+w: SIGIR\n",
      "SIGIR (i: booktitle)\n",
      "\t+w: ,\tw: SIGIR\t-w: of\n",
      ", (e: booktitle)\n",
      "\tw: ,\t-w: SIGIR\t+w: 262-269\t+w: is page range\n",
      "262-269 (b: pages)\n",
      "\t+w: ,\t-w: ,\tw: 262-269\tw: is page range\n",
      ", (e: pages)\n",
      "\tw: ,\t-w: 262-269\t-w: is page range\t+w: is all digits\t+w: 1996\n",
      "1996 (b: date)\n",
      "\t-w: ,\tw: is all digits\tw: 1996\t+w: .\n",
      ". (e: date)\n",
      "\tw: .\t+: empty\t-w: is all digits\t-w: 1996\n"
     ]
    }
   ],
   "source": [
    "bib_data.test_features_dev_item(2)"
   ]
  },
  {
   "cell_type": "markdown",
   "metadata": {},
   "source": [
    "For now, we can use exactly the same family of operations to describe the recipe data.  If you want to explore both recipe data and bibliography data yourself, however, you may want to consider using different features and maybe even different tagging pipelines for the two data sets."
   ]
  },
  {
   "cell_type": "code",
   "execution_count": 9,
   "metadata": {
    "collapsed": true
   },
   "outputs": [],
   "source": [
    "recipe_features = vocabulary.Vocabulary()\n",
    "\n",
    "recipe_data = tagtools.DataManager(ingredients_train_file, \n",
    "                                   ingredients_test_file,\n",
    "                                   ingredients_dev_file,\n",
    "                                   ingredients_xml_item_keyword,\n",
    "                                   default_tokenizer,\n",
    "                                   default_token_view,\n",
    "                                   default_features(recipe_features),\n",
    "                                   default_feature_processor)"
   ]
  },
  {
   "cell_type": "markdown",
   "metadata": {},
   "source": [
    "Again, we have a separate cell to load the data from the file system.  (The recipe data is very large; this takes a while!)"
   ]
  },
  {
   "cell_type": "code",
   "execution_count": 10,
   "metadata": {},
   "outputs": [],
   "source": [
    "recipe_data.initialize()"
   ]
  },
  {
   "cell_type": "markdown",
   "metadata": {},
   "source": [
    "## Bundling the data\n",
    "\n",
    "When we think about working with sequence data, we need\n",
    "* a data manager, to coordinate with the file system\n",
    "* a feature vocabulary, which we need direct access to, so that we know to use the training data to define features and keep the features constant when we analyze dev and test data\n",
    "* a classifier, to learn correlations to make guesses about individual tokens (independent of the decisions we guess for nearby tokens)\n",
    "* a decoder, to read off a consistent set of decisions for all the tokens in a text\n",
    "\n",
    "The `TaggingExperiment` class puts those together, and provides interfaces for doing the associated computations and visualizing the results.\n",
    "\n",
    "The typical workflow of a tagging experiment will be to call\n",
    "* `initialize()` to load the training data and build feature matrices\n",
    "* `fit_and_validate()` to learn a classifier and apply it to the training data\n",
    "* `decode_and_validate` to derive globally consistent results from the classifer predictions, using beam search\n",
    "\n",
    "And then to explore the results by using\n",
    "* `visualize_classifer` to display the results of the raw classifier on a particular item from the dev set\n",
    "* `visualize_decoder` to dispaly the results of the beam search decoder (and the classifier) on a particular item from the dev set.\n",
    "\n",
    "I've kept the transform method, in case you want to use similar methods to the last assignment to generalize the results of your classifiers using word embeddings, etc."
   ]
  },
  {
   "cell_type": "code",
   "execution_count": 11,
   "metadata": {
    "collapsed": true
   },
   "outputs": [],
   "source": [
    "class TaggingExperiment(object) :\n",
    "    '''Organize the process of getting data, building a classifier,\n",
    "    and exploring new representations'''\n",
    "    \n",
    "    def __init__(self, data, features, classifier, decoder) :\n",
    "        'set up the problem of learning a classifier from a data manager'\n",
    "        self.data = data\n",
    "        self.classifier = classifier\n",
    "        self.features = features\n",
    "        self.decoder = decoder\n",
    "        self.initialized = False\n",
    "        self.trained = False\n",
    "        self.decoded = False\n",
    "        \n",
    "    def initialize(self) :\n",
    "        'materialize the training data, dev data and test data as matrices'\n",
    "        if not self.initialized :\n",
    "            self.train_X, self.train_y, self.train_d = self.data.training_data()\n",
    "            self.features.stop_growth()\n",
    "            self.dev_X, self.dev_y, self.dev_d = self.data.dev_data()\n",
    "            self.test_X, self.test_y, self.test_d = self.data.test_data()\n",
    "            self.initialized = True\n",
    "        \n",
    "    def fit_and_validate(self) :\n",
    "        'train the classifier and assess predictions on dev data'\n",
    "        if not self.initialized :\n",
    "            self.initialize()\n",
    "        self.classifier.fit(self.train_X, self.train_y)\n",
    "        self.tagset = self.classifier.classes_\n",
    "        self.trained = True\n",
    "        self.dev_predictions = self.classifier.predict(self.dev_X)\n",
    "        self.accuracy = sklearn.metrics.accuracy_score(self.dev_y, self.dev_predictions)\n",
    "    \n",
    "    def visualize_classifier(self, item_number) :\n",
    "        'show the results of running the classifier on text number item_number'\n",
    "        if not self.trained :\n",
    "            self.fit_and_validate()\n",
    "        w = self.data.dev_item_token_views(item_number)\n",
    "        s = self.dev_d[item_number]\n",
    "        e = self.dev_d[item_number+1]\n",
    "        tagtools.visualize(w, {'actual': self.dev_y[s:e], \n",
    "                               'predicted': self.dev_predictions[s:e]})\n",
    "\n",
    "    def decode_and_validate(self) :\n",
    "        '''use the trained classifier and beam search to find the consistent\n",
    "        analyses of all the items in the dev data'''\n",
    "        if not self.trained :\n",
    "            self.fit_and_validate()\n",
    "        self.dev_log_probs = self.classifier.predict_log_proba(self.dev_X)\n",
    "        results = []\n",
    "        self.dev_partials = []\n",
    "        self.dev_exacts = []\n",
    "        for i in range(len(self.dev_d)-1) :\n",
    "            s = self.dev_d[i]\n",
    "            e = self.dev_d[i+1]\n",
    "            tags, score = self.decoder.search(self.tagset, self.dev_log_probs[s:e])\n",
    "            p_t = tags[1:-1]\n",
    "            results.append(p_t)\n",
    "            self.dev_partials.append(tagtools.agrees(p_t, iter(self.dev_y[s:e]), partial=True))\n",
    "            self.dev_exacts.append(tagtools.agrees(p_t, iter(self.dev_y[s:e]), partial=False))\n",
    "        self.dev_decoded = np.concatenate(results)\n",
    "\n",
    "    def visualize_decoder(self, item) :\n",
    "        'show the results of running the classifier and decoder on text number item_number'\n",
    "        if not self.decoded :\n",
    "            self.decode_and_validate()\n",
    "        w = self.data.dev_item_token_views(item)\n",
    "        s = self.dev_d[item]\n",
    "        e = self.dev_d[item+1]\n",
    "        tagtools.visualize(w, {'actual': self.dev_y[s:e], \n",
    "                               'best': self.dev_predictions[s:e],\n",
    "                               'predicted': self.dev_decoded[s:e]})\n",
    "\n",
    "    @classmethod\n",
    "    def transform(cls, expt, operation, classifier) :\n",
    "        'use operation to transform the data from expt and set up new classifier'\n",
    "        if not expt.initialized :\n",
    "            expt.initialize()\n",
    "        result = cls(expt.data, classifier)\n",
    "        result.train_X, result.train_y, result.train_d = \\\n",
    "            operation(expt.train_X, expt.train_y, expt.train_d)\n",
    "        result.dev_X, result.dev_y, result.dev_d = \\\n",
    "            operation(expt.dev_X, expt.dev_y, expt.dev_d)\n",
    "        result.test_X, result.test_y, result.test_d = \\\n",
    "            operation(expt.test_X, expt.test_y, expt.test_d)\n",
    "        result.initialized = True\n",
    "        return result\n"
   ]
  },
  {
   "cell_type": "markdown",
   "metadata": {},
   "source": [
    "## Searching for Consistent Taggings\n",
    "\n",
    "The beam search decoder uses two constructs to model sequence structure.  * First, there are `states`, which correspond to tags.  In the case of `BIES` tags, these tags actually incorporate a lot of information about what has come before and what will come later, which needs to be taken into account in decoding.\n",
    "* Second, there is the `status`, which summarizes the analysis that has been developed so far in a meaningful way.  The status lets you make sure that each new thing that you recognize represents new information (if appropriate).\n",
    "\n",
    "The beam search decoder uses a set of abstractions to monitor the process of integrating the tags assigned to individual tokens into a consistent and meaningful overall analysis.  These functions manipulate the `state` and `status` data structures that the decoder uses.\n",
    "\n",
    "* `initial_status()`: Function that returns the `status` corresponding to an empty text.  You shouldn't make this empty; the beam search decoder uses empty status as a signal of failure.  Our default alternative, which you probably won't have to change, just indicates that we're at the beginning of the text.\n",
    "\n",
    "* `is_consistent(t1, t2)`: Indicates whether tag `t2` can sensibly follow `t1`.  This is designed to encode the constraints of the `BIES` tag regime.  For example, if you have a tag `i: author` it means you're in the middle of an author specification; the only thing that can meaningfully come after that is another `i: author` tag, continuing the author definition, or an `e: author` tag indicating the end of the author segment.  You can't have a `b: ...` or `s: ...` tag or anything other than an `... author` tag.  **It is part of the homework for you to fill in the details here yourself in a sensible way.**\n",
    "\n",
    "* `next_status(status, t1, t2)`: Creates the new status that you get when you start from `status` in state `t1` and update to `t2`.  In general, your status will indicate the information that you've found and the information you still need to analyze the text in a consistent way.  So when you move from `t1` to `t2` you may have to check whether `t2` represents the beginning of new information that makes sense in context or not (if not, probably you should return `None`).  And it should update the `status` to reflect everything you've now seen.  **Again the default implementation is inadequate, and you need to fill this in for yourself.  You need to think about the structure of recipes and bibliography items to do this correctly.  Can something have multiple comments in a recipe?  Definitely.  Can it have multiple quantities?  Probably not.  Can something have two authors?  Probably not.  In fact, something probably can't have both a journal and a booktitle field: where did this article actually appear?**\n",
    "\n",
    "* `do_special(status, t1, j, node, heuristics)`.  You may want to deal with model failure.  For example, if you look at the dev set in the bibliography data set, you will be able to find a couple of items that actually present duplicate publication information (for example, an article that appeared first in a conference, then appeared in one or two later edited collections).  This is a qualitatively different kind of bibliography entry.  You want to have constraints describing normal bibliography entries, but you want to just bail on those constraints when you get an exceptional entry, and recognize as much as you can.  That's what the `do_special` method handles.  The method is called to consider the possibility of model failure given status `status` and state `t1` at position `j`.  If you think there's model failure, you need to construct an analysis node converting the remaining tokens in the stream (`None` is a reasonable label for the remaining tokens; there are `len(heuristics)-2` tokens in total, and you're about to handle token `j`), and you need to assign a score to it (which should penalize the score derivable from `heuristics` according to some fixed penalty).  Actually, you may be able to construct this analysis in a few different ways, so this method returns a list of `(node, score)` pairs.  **You can get a fair amount better precision by using this method, but obviously it requires a pretty solid understanding of the role this method plays in decoding.**\n",
    "\n",
    "Your job is to flesh this out in a sensible way.  The definitions below simply enable the decoder to return exactly the same analysis as the independent classifier.  But if you update these definitions to do something sensible, you can get a meaningful improvement in performance."
   ]
  },
  {
   "cell_type": "code",
   "execution_count": 12,
   "metadata": {},
   "outputs": [],
   "source": [
    "# a good default\n",
    "def initial_status():\n",
    "    return frozenset(['START'])\n",
    "\n",
    "def is_consistent(t1, t2) :\n",
    "    #(i or e) must follow (b or i) and tags should match\n",
    "    #(s or b) must follow (e or s) and tags shouldn't match\n",
    "    if t2 == 'START' and t1 == 'END' : return False\n",
    "    return (t1 == 'START' and t2[0] == 'b') or \\\n",
    "        (t2 == 'END' and (t1[0] == 'e' or t1[0] == 's')) or \\\n",
    "        (((t1[0] == 'b' or t1[0] == 'i') and (t2[0] == 'i' or t2[0] == 'e')) and t1[3:] == t2[3:]) or \\\n",
    "        (((t1[0] == 'e' or t1[0] == 's') and (t2[0] == 's' or t2[0] == 'b')) and t1[3:] != t2[3:])\n",
    "\n",
    "def next_status(status, t1, t2) :\n",
    "    #first dataset: note can be multiple, \n",
    "        #have to be individual: journal, booktitle, tech\n",
    "    #second dataset: comments and other can be multiple, quantities cannot\n",
    "    unique = {'journal', 'booktitle', 'tech', 'quantity'}\n",
    "    not_unique = {'note', 'comment', 'other'}\n",
    "    single = {'author', 'date', 'title', 'volume', 'location', 'publisher', 'institution', 'editor', 'paper', 'date'}\n",
    "    field1 = t1[3:]\n",
    "    field2 = t2[3:]\n",
    "    if field2 in single and field2 not in status: return status.union([field2])\n",
    "    if field2 in not_unique: return status.union([field2])\n",
    "    if field2 in unique and len(status & not_unique) == 0: \n",
    "        return status.union([field2])\n",
    "    return status\n",
    "\n",
    "\n",
    "# enforce model constraints all the time.  you can do better.\n",
    "\n",
    "def do_special(status, t1, j, node, heuristics):\n",
    "    #model failure: if t1 is in the \"not_unique\" set from before\n",
    "    not_unique = {'note', 'comment', 'other'}\n",
    "    special_node = node    \n",
    "    new_value = 100000\n",
    "    for i in range(j, len(heuristics) - 2) :\n",
    "        special_node = (None, special_node)\n",
    "    if t1 not in {'START', 'END'} and t1[3:] in status and len(status & not_unique) == 0:\n",
    "        new_value = heuristics[j]\n",
    "    return [(special_node, new_value)]\n",
    "    "
   ]
  },
  {
   "cell_type": "markdown",
   "metadata": {},
   "source": [
    "## Setting up experiments\n",
    "\n",
    "The definitions below put everything together.  We create a classifier to learn correlations between features and tags, and crate a decoder to put the learned decisions together into an analyses of complete texts.  Then we set up the infrastructure to explore the results systematically."
   ]
  },
  {
   "cell_type": "code",
   "execution_count": 13,
   "metadata": {},
   "outputs": [],
   "source": [
    "bib_classifier = sklearn.linear_model.SGDClassifier(loss=\"log\",\n",
    "                                           penalty=\"elasticnet\",\n",
    "                                           n_iter=5)\n",
    "\n",
    "\n",
    "bib_decoder = tagtools.BeamDecoder(initial_status,\n",
    "                                   is_consistent,\n",
    "                                   next_status,\n",
    "                                   do_special)\n",
    "\n",
    "bib = TaggingExperiment(bib_data, \n",
    "                        bib_features,\n",
    "                        bib_classifier,\n",
    "                        bib_decoder)"
   ]
  },
  {
   "cell_type": "markdown",
   "metadata": {},
   "source": [
    "Load the data"
   ]
  },
  {
   "cell_type": "code",
   "execution_count": 14,
   "metadata": {},
   "outputs": [],
   "source": [
    "bib.initialize()"
   ]
  },
  {
   "cell_type": "markdown",
   "metadata": {},
   "source": [
    "Train the classifier and explore it"
   ]
  },
  {
   "cell_type": "code",
   "execution_count": 15,
   "metadata": {},
   "outputs": [
    {
     "name": "stderr",
     "output_type": "stream",
     "text": [
      "/Users/tanya/anaconda3/lib/python3.6/site-packages/sklearn/linear_model/stochastic_gradient.py:117: DeprecationWarning: n_iter parameter is deprecated in 0.19 and will be removed in 0.21. Use max_iter and tol instead.\n",
      "  DeprecationWarning)\n"
     ]
    }
   ],
   "source": [
    "bib.fit_and_validate()"
   ]
  },
  {
   "cell_type": "code",
   "execution_count": 16,
   "metadata": {},
   "outputs": [
    {
     "name": "stdout",
     "output_type": "stream",
     "text": [
      "0.804792518995\n"
     ]
    }
   ],
   "source": [
    "print (bib.accuracy)"
   ]
  },
  {
   "cell_type": "code",
   "execution_count": 17,
   "metadata": {
    "scrolled": true
   },
   "outputs": [
    {
     "name": "stdout",
     "output_type": "stream",
     "text": [
      "Some errors.\n",
      "Jeffrey         \tactual     b: author \tpredicted  b: author \n",
      "Kuskin          \tactual     i: author \tpredicted  i: title  \n",
      ",               \tactual     i: author \tpredicted  i: author \n",
      "David           \tactual     i: author \tpredicted  i: author \n",
      "Ofelt           \tactual     i: author \tpredicted  i: author \n",
      ",               \tactual     i: author \tpredicted  i: author \n",
      "Mark            \tactual     i: author \tpredicted  i: author \n",
      "Heinrich        \tactual     i: author \tpredicted  i: author \n",
      ",               \tactual     i: author \tpredicted  i: author \n",
      "John            \tactual     i: author \tpredicted  i: author \n",
      "Heinlein        \tactual     i: author \tpredicted  i: title  \n",
      ",               \tactual     i: author \tpredicted  i: author \n",
      "Richard         \tactual     i: author \tpredicted  i: author \n",
      "Simoni          \tactual     i: author \tpredicted  i: title  \n",
      ",               \tactual     i: author \tpredicted  i: author \n",
      "Kourosh         \tactual     i: author \tpredicted  i: author \n",
      "Gharachorloo    \tactual     i: author \tpredicted  i: title  \n",
      ",               \tactual     i: author \tpredicted  i: author \n",
      "John            \tactual     i: author \tpredicted  i: author \n",
      "Chapin          \tactual     i: author \tpredicted  i: title  \n",
      ",               \tactual     i: author \tpredicted  i: author \n",
      "David           \tactual     i: author \tpredicted  i: author \n",
      "Nakahira        \tactual     i: author \tpredicted  i: author \n",
      ",               \tactual     i: author \tpredicted  i: author \n",
      "Joel            \tactual     i: author \tpredicted  i: author \n",
      "Baxter          \tactual     i: author \tpredicted  i: title  \n",
      ",               \tactual     i: author \tpredicted  i: author \n",
      "Mark            \tactual     i: author \tpredicted  i: author \n",
      "Horowitz        \tactual     i: author \tpredicted  i: author \n",
      ",               \tactual     i: author \tpredicted  i: author \n",
      "Anoop           \tactual     i: author \tpredicted  i: author \n",
      "Gupta           \tactual     i: author \tpredicted  i: author \n",
      ",               \tactual     i: author \tpredicted  i: author \n",
      "Mendel          \tactual     i: author \tpredicted  i: author \n",
      "Rosenbaum       \tactual     i: author \tpredicted  i: title  \n",
      ",               \tactual     i: author \tpredicted  i: author \n",
      "and             \tactual     i: author \tpredicted  i: author \n",
      "John            \tactual     i: author \tpredicted  i: title  \n",
      "Hennessy        \tactual     i: author \tpredicted  i: title  \n",
      ".               \tactual     e: author \tpredicted  e: author \n",
      "The             \tactual     b: title  \tpredicted  b: title  \n",
      "Stanford        \tactual     i: title  \tpredicted  i: title  \n",
      "FLASH           \tactual     i: title  \tpredicted  i: title  \n",
      "multiprocessor  \tactual     i: title  \tpredicted  i: title  \n",
      ".               \tactual     e: title  \tpredicted  e: title  \n",
      "In              \tactual     b: booktitle\tpredicted  b: booktitle\n",
      "Proceedings     \tactual     i: booktitle\tpredicted  i: booktitle\n",
      "of              \tactual     i: booktitle\tpredicted  i: booktitle\n",
      "the             \tactual     i: booktitle\tpredicted  i: title  \n",
      "21st            \tactual     i: booktitle\tpredicted  i: booktitle\n",
      "Annual          \tactual     i: booktitle\tpredicted  i: booktitle\n",
      "International   \tactual     i: booktitle\tpredicted  i: booktitle\n",
      "Conference      \tactual     i: booktitle\tpredicted  i: booktitle\n",
      "on              \tactual     i: booktitle\tpredicted  i: booktitle\n",
      "Computer        \tactual     i: booktitle\tpredicted  i: booktitle\n",
      "Architecture    \tactual     i: booktitle\tpredicted  i: booktitle\n",
      ",               \tactual     e: booktitle\tpredicted  e: booktitle\n",
      "pages           \tactual     b: pages  \tpredicted  b: pages  \n",
      "302-313         \tactual     i: pages  \tpredicted  i: pages  \n",
      ",               \tactual     e: pages  \tpredicted  e: pages  \n",
      "April           \tactual     b: date   \tpredicted  b: date   \n",
      "1994            \tactual     i: date   \tpredicted  i: date   \n",
      ".               \tactual     e: date   \tpredicted  e: date   \n"
     ]
    }
   ],
   "source": [
    "bib.visualize_classifier(20)"
   ]
  },
  {
   "cell_type": "markdown",
   "metadata": {},
   "source": [
    "Search for consistent analyses and report details"
   ]
  },
  {
   "cell_type": "code",
   "execution_count": 18,
   "metadata": {},
   "outputs": [
    {
     "name": "stdout",
     "output_type": "stream",
     "text": [
      "48 correct with omissions\n",
      "0 fully correct\n"
     ]
    }
   ],
   "source": [
    "bib.decode_and_validate()\n",
    "print (sum([1 for t in bib.dev_partials if t]), \"correct with omissions\")\n",
    "print (sum([1 for t in bib.dev_exacts if t]), \"fully correct\")"
   ]
  },
  {
   "cell_type": "markdown",
   "metadata": {},
   "source": [
    "Summarize performance of the classifier"
   ]
  },
  {
   "cell_type": "code",
   "execution_count": 19,
   "metadata": {},
   "outputs": [
    {
     "name": "stdout",
     "output_type": "stream",
     "text": [
      "                precision    recall  f1-score   support\n",
      "\n",
      "     i: author       0.80      0.92      0.85       338\n",
      "     e: author       0.71      0.94      0.81        49\n",
      "     b: author       0.96      0.98      0.97        49\n",
      "  i: booktitle       0.90      0.71      0.79       209\n",
      "  b: booktitle       0.91      0.84      0.87        25\n",
      "  e: booktitle       0.82      0.56      0.67        25\n",
      "       b: date       0.86      0.98      0.91        49\n",
      "       i: date       0.81      1.00      0.89        50\n",
      "       e: date       0.80      0.96      0.87        49\n",
      "     e: editor       0.00      0.00      0.00         6\n",
      "     i: editor       0.93      0.30      0.45        44\n",
      "     b: editor       0.00      0.00      0.00         6\n",
      "e: institution       1.00      0.43      0.60         7\n",
      "i: institution       0.82      0.45      0.58        20\n",
      "b: institution       0.50      0.14      0.22         7\n",
      "    i: journal       0.92      0.29      0.44        38\n",
      "    b: journal       0.90      0.56      0.69        16\n",
      "    e: journal       0.67      0.75      0.71        16\n",
      "   i: location       1.00      0.39      0.56        28\n",
      "   s: location       0.00      0.00      0.00         1\n",
      "   e: location       0.56      0.38      0.45        13\n",
      "   b: location       0.86      0.46      0.60        13\n",
      "       i: note       0.00      0.00      0.00        11\n",
      "       b: note       0.00      0.00      0.00         4\n",
      "       e: note       0.00      0.00      0.00         4\n",
      "      b: pages       1.00      0.94      0.97        33\n",
      "      i: pages       0.97      1.00      0.98        30\n",
      "      e: pages       1.00      0.91      0.95        33\n",
      "  b: publisher       0.86      0.60      0.71        10\n",
      "  e: publisher       0.78      0.70      0.74        10\n",
      "  i: publisher       0.80      0.33      0.47        12\n",
      "       e: tech       1.00      0.20      0.33         5\n",
      "       b: tech       1.00      0.60      0.75         5\n",
      "       i: tech       1.00      0.50      0.67        10\n",
      "      e: title       0.90      0.74      0.81        50\n",
      "      i: title       0.75      0.95      0.84       335\n",
      "      b: title       0.63      0.94      0.75        50\n",
      "     b: volume       0.73      0.85      0.79        13\n",
      "     s: volume       1.00      1.00      1.00         3\n",
      "     e: volume       0.57      0.62      0.59        13\n",
      "     i: volume       0.73      1.00      0.85        22\n",
      "\n",
      "   avg / total       0.81      0.80      0.78      1711\n",
      "\n"
     ]
    },
    {
     "name": "stderr",
     "output_type": "stream",
     "text": [
      "/Users/tanya/anaconda3/lib/python3.6/site-packages/sklearn/metrics/classification.py:1135: UndefinedMetricWarning: Precision and F-score are ill-defined and being set to 0.0 in labels with no predicted samples.\n",
      "  'precision', 'predicted', average, warn_for)\n"
     ]
    }
   ],
   "source": [
    "print (tagtools.bieso_classification_report(bib.dev_y, bib.dev_predictions))"
   ]
  },
  {
   "cell_type": "markdown",
   "metadata": {},
   "source": [
    "Summarize performance of the decoder"
   ]
  },
  {
   "cell_type": "code",
   "execution_count": 20,
   "metadata": {},
   "outputs": [
    {
     "ename": "TypeError",
     "evalue": "'<' not supported between instances of 'NoneType' and 'numpy.str_'",
     "output_type": "error",
     "traceback": [
      "\u001b[0;31m---------------------------------------------------------------------------\u001b[0m",
      "\u001b[0;31mTypeError\u001b[0m                                 Traceback (most recent call last)",
      "\u001b[0;32m<ipython-input-20-613758ba0fb1>\u001b[0m in \u001b[0;36m<module>\u001b[0;34m()\u001b[0m\n\u001b[0;32m----> 1\u001b[0;31m \u001b[0mprint\u001b[0m \u001b[0;34m(\u001b[0m\u001b[0mtagtools\u001b[0m\u001b[0;34m.\u001b[0m\u001b[0mbieso_classification_report\u001b[0m\u001b[0;34m(\u001b[0m\u001b[0mbib\u001b[0m\u001b[0;34m.\u001b[0m\u001b[0mdev_y\u001b[0m\u001b[0;34m,\u001b[0m \u001b[0mbib\u001b[0m\u001b[0;34m.\u001b[0m\u001b[0mdev_decoded\u001b[0m\u001b[0;34m)\u001b[0m\u001b[0;34m)\u001b[0m\u001b[0;34m\u001b[0m\u001b[0m\n\u001b[0m",
      "\u001b[0;32m~/Programming/Classes/nlp/2_homework/tagtools.py\u001b[0m in \u001b[0;36mbieso_classification_report\u001b[0;34m(y_true, y_pred)\u001b[0m\n\u001b[1;32m     88\u001b[0m     \u001b[0mlb\u001b[0m \u001b[0;34m=\u001b[0m \u001b[0mLabelBinarizer\u001b[0m\u001b[0;34m(\u001b[0m\u001b[0;34m)\u001b[0m\u001b[0;34m\u001b[0m\u001b[0m\n\u001b[1;32m     89\u001b[0m     \u001b[0my_true_combined\u001b[0m \u001b[0;34m=\u001b[0m \u001b[0mlb\u001b[0m\u001b[0;34m.\u001b[0m\u001b[0mfit_transform\u001b[0m\u001b[0;34m(\u001b[0m\u001b[0my_true\u001b[0m\u001b[0;34m)\u001b[0m\u001b[0;34m\u001b[0m\u001b[0m\n\u001b[0;32m---> 90\u001b[0;31m     \u001b[0my_pred_combined\u001b[0m \u001b[0;34m=\u001b[0m \u001b[0mlb\u001b[0m\u001b[0;34m.\u001b[0m\u001b[0mtransform\u001b[0m\u001b[0;34m(\u001b[0m\u001b[0my_pred\u001b[0m\u001b[0;34m)\u001b[0m\u001b[0;34m\u001b[0m\u001b[0m\n\u001b[0m\u001b[1;32m     91\u001b[0m \u001b[0;34m\u001b[0m\u001b[0m\n\u001b[1;32m     92\u001b[0m     \u001b[0mtagset\u001b[0m \u001b[0;34m=\u001b[0m \u001b[0mset\u001b[0m\u001b[0;34m(\u001b[0m\u001b[0mlb\u001b[0m\u001b[0;34m.\u001b[0m\u001b[0mclasses_\u001b[0m\u001b[0;34m)\u001b[0m\u001b[0;34m\u001b[0m\u001b[0m\n",
      "\u001b[0;32m~/anaconda3/lib/python3.6/site-packages/sklearn/preprocessing/label.py\u001b[0m in \u001b[0;36mtransform\u001b[0;34m(self, y)\u001b[0m\n\u001b[1;32m    328\u001b[0m         \u001b[0mcheck_is_fitted\u001b[0m\u001b[0;34m(\u001b[0m\u001b[0mself\u001b[0m\u001b[0;34m,\u001b[0m \u001b[0;34m'classes_'\u001b[0m\u001b[0;34m)\u001b[0m\u001b[0;34m\u001b[0m\u001b[0m\n\u001b[1;32m    329\u001b[0m \u001b[0;34m\u001b[0m\u001b[0m\n\u001b[0;32m--> 330\u001b[0;31m         \u001b[0my_is_multilabel\u001b[0m \u001b[0;34m=\u001b[0m \u001b[0mtype_of_target\u001b[0m\u001b[0;34m(\u001b[0m\u001b[0my\u001b[0m\u001b[0;34m)\u001b[0m\u001b[0;34m.\u001b[0m\u001b[0mstartswith\u001b[0m\u001b[0;34m(\u001b[0m\u001b[0;34m'multilabel'\u001b[0m\u001b[0;34m)\u001b[0m\u001b[0;34m\u001b[0m\u001b[0m\n\u001b[0m\u001b[1;32m    331\u001b[0m         \u001b[0;32mif\u001b[0m \u001b[0my_is_multilabel\u001b[0m \u001b[0;32mand\u001b[0m \u001b[0;32mnot\u001b[0m \u001b[0mself\u001b[0m\u001b[0;34m.\u001b[0m\u001b[0my_type_\u001b[0m\u001b[0;34m.\u001b[0m\u001b[0mstartswith\u001b[0m\u001b[0;34m(\u001b[0m\u001b[0;34m'multilabel'\u001b[0m\u001b[0;34m)\u001b[0m\u001b[0;34m:\u001b[0m\u001b[0;34m\u001b[0m\u001b[0m\n\u001b[1;32m    332\u001b[0m             raise ValueError(\"The object was not fitted with multilabel\"\n",
      "\u001b[0;32m~/anaconda3/lib/python3.6/site-packages/sklearn/utils/multiclass.py\u001b[0m in \u001b[0;36mtype_of_target\u001b[0;34m(y)\u001b[0m\n\u001b[1;32m    286\u001b[0m         \u001b[0;32mreturn\u001b[0m \u001b[0;34m'continuous'\u001b[0m \u001b[0;34m+\u001b[0m \u001b[0msuffix\u001b[0m\u001b[0;34m\u001b[0m\u001b[0m\n\u001b[1;32m    287\u001b[0m \u001b[0;34m\u001b[0m\u001b[0m\n\u001b[0;32m--> 288\u001b[0;31m     \u001b[0;32mif\u001b[0m \u001b[0;34m(\u001b[0m\u001b[0mlen\u001b[0m\u001b[0;34m(\u001b[0m\u001b[0mnp\u001b[0m\u001b[0;34m.\u001b[0m\u001b[0munique\u001b[0m\u001b[0;34m(\u001b[0m\u001b[0my\u001b[0m\u001b[0;34m)\u001b[0m\u001b[0;34m)\u001b[0m \u001b[0;34m>\u001b[0m \u001b[0;36m2\u001b[0m\u001b[0;34m)\u001b[0m \u001b[0;32mor\u001b[0m \u001b[0;34m(\u001b[0m\u001b[0my\u001b[0m\u001b[0;34m.\u001b[0m\u001b[0mndim\u001b[0m \u001b[0;34m>=\u001b[0m \u001b[0;36m2\u001b[0m \u001b[0;32mand\u001b[0m \u001b[0mlen\u001b[0m\u001b[0;34m(\u001b[0m\u001b[0my\u001b[0m\u001b[0;34m[\u001b[0m\u001b[0;36m0\u001b[0m\u001b[0;34m]\u001b[0m\u001b[0;34m)\u001b[0m \u001b[0;34m>\u001b[0m \u001b[0;36m1\u001b[0m\u001b[0;34m)\u001b[0m\u001b[0;34m:\u001b[0m\u001b[0;34m\u001b[0m\u001b[0m\n\u001b[0m\u001b[1;32m    289\u001b[0m         \u001b[0;32mreturn\u001b[0m \u001b[0;34m'multiclass'\u001b[0m \u001b[0;34m+\u001b[0m \u001b[0msuffix\u001b[0m  \u001b[0;31m# [1, 2, 3] or [[1., 2., 3]] or [[1, 2]]\u001b[0m\u001b[0;34m\u001b[0m\u001b[0m\n\u001b[1;32m    290\u001b[0m     \u001b[0;32melse\u001b[0m\u001b[0;34m:\u001b[0m\u001b[0;34m\u001b[0m\u001b[0m\n",
      "\u001b[0;32m~/anaconda3/lib/python3.6/site-packages/numpy/lib/arraysetops.py\u001b[0m in \u001b[0;36munique\u001b[0;34m(ar, return_index, return_inverse, return_counts, axis)\u001b[0m\n\u001b[1;32m    208\u001b[0m     \u001b[0mar\u001b[0m \u001b[0;34m=\u001b[0m \u001b[0mnp\u001b[0m\u001b[0;34m.\u001b[0m\u001b[0masanyarray\u001b[0m\u001b[0;34m(\u001b[0m\u001b[0mar\u001b[0m\u001b[0;34m)\u001b[0m\u001b[0;34m\u001b[0m\u001b[0m\n\u001b[1;32m    209\u001b[0m     \u001b[0;32mif\u001b[0m \u001b[0maxis\u001b[0m \u001b[0;32mis\u001b[0m \u001b[0;32mNone\u001b[0m\u001b[0;34m:\u001b[0m\u001b[0;34m\u001b[0m\u001b[0m\n\u001b[0;32m--> 210\u001b[0;31m         \u001b[0;32mreturn\u001b[0m \u001b[0m_unique1d\u001b[0m\u001b[0;34m(\u001b[0m\u001b[0mar\u001b[0m\u001b[0;34m,\u001b[0m \u001b[0mreturn_index\u001b[0m\u001b[0;34m,\u001b[0m \u001b[0mreturn_inverse\u001b[0m\u001b[0;34m,\u001b[0m \u001b[0mreturn_counts\u001b[0m\u001b[0;34m)\u001b[0m\u001b[0;34m\u001b[0m\u001b[0m\n\u001b[0m\u001b[1;32m    211\u001b[0m     \u001b[0;32mif\u001b[0m \u001b[0;32mnot\u001b[0m \u001b[0;34m(\u001b[0m\u001b[0;34m-\u001b[0m\u001b[0mar\u001b[0m\u001b[0;34m.\u001b[0m\u001b[0mndim\u001b[0m \u001b[0;34m<=\u001b[0m \u001b[0maxis\u001b[0m \u001b[0;34m<\u001b[0m \u001b[0mar\u001b[0m\u001b[0;34m.\u001b[0m\u001b[0mndim\u001b[0m\u001b[0;34m)\u001b[0m\u001b[0;34m:\u001b[0m\u001b[0;34m\u001b[0m\u001b[0m\n\u001b[1;32m    212\u001b[0m         \u001b[0;32mraise\u001b[0m \u001b[0mValueError\u001b[0m\u001b[0;34m(\u001b[0m\u001b[0;34m'Invalid axis kwarg specified for unique'\u001b[0m\u001b[0;34m)\u001b[0m\u001b[0;34m\u001b[0m\u001b[0m\n",
      "\u001b[0;32m~/anaconda3/lib/python3.6/site-packages/numpy/lib/arraysetops.py\u001b[0m in \u001b[0;36m_unique1d\u001b[0;34m(ar, return_index, return_inverse, return_counts)\u001b[0m\n\u001b[1;32m    275\u001b[0m         \u001b[0maux\u001b[0m \u001b[0;34m=\u001b[0m \u001b[0mar\u001b[0m\u001b[0;34m[\u001b[0m\u001b[0mperm\u001b[0m\u001b[0;34m]\u001b[0m\u001b[0;34m\u001b[0m\u001b[0m\n\u001b[1;32m    276\u001b[0m     \u001b[0;32melse\u001b[0m\u001b[0;34m:\u001b[0m\u001b[0;34m\u001b[0m\u001b[0m\n\u001b[0;32m--> 277\u001b[0;31m         \u001b[0mar\u001b[0m\u001b[0;34m.\u001b[0m\u001b[0msort\u001b[0m\u001b[0;34m(\u001b[0m\u001b[0;34m)\u001b[0m\u001b[0;34m\u001b[0m\u001b[0m\n\u001b[0m\u001b[1;32m    278\u001b[0m         \u001b[0maux\u001b[0m \u001b[0;34m=\u001b[0m \u001b[0mar\u001b[0m\u001b[0;34m\u001b[0m\u001b[0m\n\u001b[1;32m    279\u001b[0m     \u001b[0mflag\u001b[0m \u001b[0;34m=\u001b[0m \u001b[0mnp\u001b[0m\u001b[0;34m.\u001b[0m\u001b[0mconcatenate\u001b[0m\u001b[0;34m(\u001b[0m\u001b[0;34m(\u001b[0m\u001b[0;34m[\u001b[0m\u001b[0;32mTrue\u001b[0m\u001b[0;34m]\u001b[0m\u001b[0;34m,\u001b[0m \u001b[0maux\u001b[0m\u001b[0;34m[\u001b[0m\u001b[0;36m1\u001b[0m\u001b[0;34m:\u001b[0m\u001b[0;34m]\u001b[0m \u001b[0;34m!=\u001b[0m \u001b[0maux\u001b[0m\u001b[0;34m[\u001b[0m\u001b[0;34m:\u001b[0m\u001b[0;34m-\u001b[0m\u001b[0;36m1\u001b[0m\u001b[0;34m]\u001b[0m\u001b[0;34m)\u001b[0m\u001b[0;34m)\u001b[0m\u001b[0;34m\u001b[0m\u001b[0m\n",
      "\u001b[0;31mTypeError\u001b[0m: '<' not supported between instances of 'NoneType' and 'numpy.str_'"
     ]
    }
   ],
   "source": [
    "print (tagtools.bieso_classification_report(bib.dev_y, bib.dev_decoded))"
   ]
  },
  {
   "cell_type": "code",
   "execution_count": null,
   "metadata": {
    "collapsed": true
   },
   "outputs": [],
   "source": []
  }
 ],
 "metadata": {
  "anaconda-cloud": {},
  "kernelspec": {
   "display_name": "Python 3",
   "language": "python",
   "name": "python3"
  },
  "language_info": {
   "codemirror_mode": {
    "name": "ipython",
    "version": 3
   },
   "file_extension": ".py",
   "mimetype": "text/x-python",
   "name": "python",
   "nbconvert_exporter": "python",
   "pygments_lexer": "ipython3",
   "version": "3.6.3"
  }
 },
 "nbformat": 4,
 "nbformat_minor": 1
}
